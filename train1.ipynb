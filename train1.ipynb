{
 "cells": [
  {
   "cell_type": "code",
   "execution_count": 1,
   "metadata": {},
   "outputs": [],
   "source": [
    "############# Creator: Miao Zheng ##############\n",
    "## Import all necessary packages\n",
    "import pandas as pd\n",
    "import numpy as np\n",
    "import matplotlib.pyplot as plt\n",
    "import re\n",
    "import nltk\n",
    "from nltk.corpus import stopwords\n",
    "from nltk.stem.porter import PorterStemmer\n",
    "from nltk.stem import WordNetLemmatizer\n",
    "from nltk import word_tokenize"
   ]
  },
  {
   "cell_type": "code",
   "execution_count": 2,
   "metadata": {},
   "outputs": [],
   "source": [
    "## Read file using pandas.\n",
    "train = pd.read_csv(\"labeled_data.csv\")"
   ]
  },
  {
   "cell_type": "code",
   "execution_count": 3,
   "metadata": {
    "scrolled": true
   },
   "outputs": [
    {
     "data": {
      "text/html": [
       "<div>\n",
       "<style scoped>\n",
       "    .dataframe tbody tr th:only-of-type {\n",
       "        vertical-align: middle;\n",
       "    }\n",
       "\n",
       "    .dataframe tbody tr th {\n",
       "        vertical-align: top;\n",
       "    }\n",
       "\n",
       "    .dataframe thead th {\n",
       "        text-align: right;\n",
       "    }\n",
       "</style>\n",
       "<table border=\"1\" class=\"dataframe\">\n",
       "  <thead>\n",
       "    <tr style=\"text-align: right;\">\n",
       "      <th></th>\n",
       "      <th>headlines</th>\n",
       "      <th>relevancy</th>\n",
       "    </tr>\n",
       "  </thead>\n",
       "  <tbody>\n",
       "    <tr>\n",
       "      <th>0</th>\n",
       "      <td>Nissan revs up emotion in latest Leaf campaign...</td>\n",
       "      <td>1</td>\n",
       "    </tr>\n",
       "    <tr>\n",
       "      <th>1</th>\n",
       "      <td>Renault and Nissan Meet to Talk Fiat - Bloomberg</td>\n",
       "      <td>1</td>\n",
       "    </tr>\n",
       "    <tr>\n",
       "      <th>2</th>\n",
       "      <td>Lifted Nissan NV Packs Host Of Gnarly Off-Road...</td>\n",
       "      <td>1</td>\n",
       "    </tr>\n",
       "    <tr>\n",
       "      <th>3</th>\n",
       "      <td>Nissan Destination Frontier Is An Approachable...</td>\n",
       "      <td>1</td>\n",
       "    </tr>\n",
       "    <tr>\n",
       "      <th>4</th>\n",
       "      <td>With its hands-free system, Nissan could beat ...</td>\n",
       "      <td>1</td>\n",
       "    </tr>\n",
       "  </tbody>\n",
       "</table>\n",
       "</div>"
      ],
      "text/plain": [
       "                                           headlines  relevancy\n",
       "0  Nissan revs up emotion in latest Leaf campaign...          1\n",
       "1   Renault and Nissan Meet to Talk Fiat - Bloomberg          1\n",
       "2  Lifted Nissan NV Packs Host Of Gnarly Off-Road...          1\n",
       "3  Nissan Destination Frontier Is An Approachable...          1\n",
       "4  With its hands-free system, Nissan could beat ...          1"
      ]
     },
     "execution_count": 3,
     "metadata": {},
     "output_type": "execute_result"
    }
   ],
   "source": [
    "## Check the first few rows of data.\n",
    "train.head()"
   ]
  },
  {
   "cell_type": "code",
   "execution_count": 4,
   "metadata": {},
   "outputs": [
    {
     "data": {
      "text/plain": [
       "headlines    False\n",
       "relevancy    False\n",
       "dtype: bool"
      ]
     },
     "execution_count": 4,
     "metadata": {},
     "output_type": "execute_result"
    }
   ],
   "source": [
    "## See if there is any null values.\n",
    "train.isnull().any()"
   ]
  },
  {
   "cell_type": "code",
   "execution_count": 5,
   "metadata": {},
   "outputs": [
    {
     "data": {
      "text/plain": [
       "0    nissan revs emotion latest leaf campaign - ada...\n",
       "1            renault nissan meet talk fiat - bloomberg\n",
       "2    lifted nissan nv packs host gnarly off-road up...\n",
       "3    nissan destination frontier approachable overl...\n",
       "4    hands-free system, nissan could beat tesla gam...\n",
       "Name: headlines, dtype: object"
      ]
     },
     "execution_count": 5,
     "metadata": {},
     "output_type": "execute_result"
    }
   ],
   "source": [
    "## Remove stopwords from headlines.\n",
    "from nltk.corpus import stopwords\n",
    "stop=stopwords.words('english')\n",
    "\n",
    "train['headlines']=train[\"headlines\"].apply(\\\n",
    "    lambda l:\" \".join(w.lower() for w in str(l).split() if w.lower() not in stop))\n",
    "train['headlines'].head()\n",
    "## train['headlines'].tail()"
   ]
  },
  {
   "cell_type": "code",
   "execution_count": 6,
   "metadata": {},
   "outputs": [
    {
     "data": {
      "text/plain": [
       "0    nissan revs emotion latest leaf campaign  adag...\n",
       "1             renault nissan meet talk fiat  bloomberg\n",
       "2    lifted nissan nv packs host gnarly offroad upg...\n",
       "3    nissan destination frontier approachable overl...\n",
       "4    handsfree system nissan could beat tesla game ...\n",
       "Name: headlines, dtype: object"
      ]
     },
     "execution_count": 6,
     "metadata": {},
     "output_type": "execute_result"
    }
   ],
   "source": [
    "## Remove special characters and punctuations.\n",
    "train['headlines']=train['headlines'].str.replace('[^\\w\\s]','')\n",
    "train['headlines'].head()\n",
    "## train['headlines'].tail()"
   ]
  },
  {
   "cell_type": "code",
   "execution_count": 7,
   "metadata": {
    "scrolled": true
   },
   "outputs": [
    {
     "name": "stdout",
     "output_type": "stream",
     "text": [
      "['nissan', 'revs', 'emotion', 'latest', 'leaf', 'campaign', 'adagecom', 'renault', 'nissan', 'meet', 'talk', 'fiat', 'bloomberg', 'lifted', 'nissan', 'nv', 'packs', 'host', 'gnarly', 'offroad', 'upgrades', 'motor1com', 'nissan', 'destination', 'frontier', 'approachable', 'overlander', 'motor1com', 'handsfree', 'system', 'nissan', 'could', 'beat', 'tesla', 'game', 'cnn', 'nissan', 'renault', 'discuss', 'fiat', 'merger', 'proposal', 'new', 'york', 'times', 'fiat', 'chryslerrenault', 'merger', 'would', 'put', 'nissan', 'bind', 'new', 'york', 'times', 'exclusive', 'arbitration', 'court', 'rejects', 'indias', 'plea', 'case', 'nissan', 'sources', 'document', 'kfgo', 'news', 'nissans', 'infiniti', 'brand', 'move', 'back', 'japan', 'hong', 'kong', 'document', 'reuters', 'nissan', 'might', 'played', 'jalopnik', 'sk', 'innovation', 'brushes', 'lg', 'chem', 'pushes', 'battery', 'biz', 'phnom', 'penh', 'post', 'lg', 'chem', 'sues', 'sk', 'innovation', 'allegedly', 'stealing', 'electric', 'car', 'battery', 'trade', 'secrets', 'electrek', 'fresh', 'important', 'licence', 'china', 'lg', 'chem', 'breaks', 'truce', 'chaebol', 'rival', 'iam', 'lg', 'chem', 'says', 'ev', 'battery', 'supply', 'deal', 'volvo', 'cars', 'todayonline', 'lg', 'chem', 'sues', 'sk', 'innovation', 'korea', 'news', 'plus', 'volvo', 'group', 'signs', 'batteries', 'catl', 'lg', 'chem', 'wwwelectrivecom', 'global', 'batteries', 'smart', 'wearables', 'market', 'leaders', 'overview', '2018', 'lg', 'chem', 'samsung', 'sdi', 'accutronics', 'brightvolt', 'canyon', 'tribune', 'volvo', 'signs', '10year', 'battery', 'deal', 'catl', 'lg', 'chem', 'cleantechnica', 'global', 'digital', 'cameras', 'liion', 'battery', 'market', 'outlook', '20192024', 'lg', 'chem', 'panasonic', 'samsung', 'sdi', 'sony', 'hahnel', 'lenmar', 'sun', 'rise', 'report', 'truths', 'global', 'advance', 'energy', 'storage', 'market', '2019', 'current', 'scenario', 'tesla', 'lg', 'chem', 'general', 'electric', 'company', 'baltimore', 'aircoil', 'company', 'strange', 'malady', 'evonik', 'close', 'polyphthalamide', 'production', 'witten', 'focus', 'new', 'polyamide', '12', 'operations', 'marl', 'tct', 'magazine', 'evonik', 'closes', 'witten', 'plant', 'focus', '3d', 'printing', 'material', 'facility', 'marl', 'chemical', 'park', '3d', 'printing', 'industry', 'altus', 'formulation', 'partners', 'evonik', 'manufacture', 'proprietary', 'smartcelle', 'insoluble', 'drug', 'delivery', 'technology', 'yahoo', 'finance', 'evonik', 'display', 'new', 'polyimide', 'fibres', 'techtextil', 'fibre2fashioncom', 'evonik', 'showcases', 'innovation', 'unique', 'products', 'new', 'market', 'concept', 'coatings', 'world', 'magazine', 'global', 'polymethacrylimide', 'foam', 'market', '2019', 'evonik', 'industries', 'ag', 'hunan', 'zihard', 'material', 'technology', 'b2b', 'news', 'updates', 'global', 'silane', 'market', 'top', 'player', '2019', 'evonik', 'industries', 'shinetsu', 'chemical', 'momentive', 'performance', 'materials', 'industry', 'global', 'news', 'usa', 'global', 'matting', 'agents', 'market', '2019', 'huntsman', 'international', 'evonik', 'industries', 'baltimore', 'innovations', 'wr', 'grace', 'edge', 'edge', 'global', 'trimethylcyclohexanonecas', '591242', 'market', '2019', 'arkema', 'mpbio', 'tcichemical', 'evonik', 'siyaku', 'edge', 'coil', 'coating', 'additives', 'market', '2019', 'swot', 'analysis', 'players', 'evonik', 'industries', 'byk', 'elementis', 'plc', 'dow', 'fox', 'world', 'media', 'lenovo', 'lays', '500', 'workers', 'including', 'jobs', 'rtp', 'morrisville', 'wral', 'tech', 'wire', '14inch', 'lenovo', 's330', 'chromebook', 'laptop', 'gets', '159', 'price', 'cut', 'digital', 'trends', 'qualcomm', 'lenovo', 'get', 'together', 'first', '5g', 'laptop', 'hexus', 'lenovos', 'ryzenpowered', 'flex', '14', 'convertible', 'laptop', 'active', 'pen', '529', 'right', 'pcworld', 'trade', 'spat', 'new', 'worry', 'lenovo', 'wall', 'street', 'journal', 'lenovo', 'thinkpad', 't490', 'vs', 'thinkpad', 't480', 'buy', 'windows', 'central', 'lenovo', 'group', 'lnvgy', 'outperforming', 'computer', 'technology', 'stocks', 'year', 'zackscom', 'lenovos', 'foldable', 'laptop', 'fly', 'flop', 'laptop', 'mag', 'lenovo', 'makes', 'leap', 'foldabledisplay', 'laptops', 'wired', 'lenovo', 'thinkpad', 't490', 'review', 'designed', 'professionals', 'slashgear', 'new', 'hampshire', 'sues', '3m', 'dupont', 'chemical', 'companies', 'star', 'tribune', '3m', 'lake', 'elmo', 'settle', '27m', 'land', 'transfer', 'drinking', 'water', 'lawsuit', 'mpr', 'news', 'despite', 'recent', 'concerns', '3m', 'dividend', 'unlikely', 'cut', 'seeking', 'alpha', 'hideki', 'matsuyama', 'commits', 'play', '3m', 'open', 'star', 'tribune', 'see', 'ihs', 'markit', 'score', 'report', 'say', '3m', 'co', 'yahoo', 'finance', '3m', 'growth', 'trap', 'podcast', 'seeking', 'alpha', 'tariffs', 'trade', 'wars', 'making', '3m', 'ao', 'smith', 'cheap', 'seeking', 'alpha', 'moving', 'average', 'crossover', 'alert', '3m', 'company', 'yahoo', 'finance', 'lot', 'pressure', '3m', 'stock', 'seeking', 'alpha', '3m', 'mmm', '129', 'since', 'last', 'earnings', 'report', 'yahoo', 'finance', 'google', 'asks', 'android', 'developers', 'categorize', 'apps', 'based', 'content', 'target', 'age', 'venturebeat', 'google', 'rolls', 'dining', 'translation', 'filters', 'lens', 'techcrunch', 'google', 'says', 'digital', 'wellbeing', 'software', 'isnt', 'affecting', 'performance', 'pixel', 'phones', 'verge', 'amazon', 'challenges', 'google', 'smaller', 'cheaper', 'echo', 'show', 'mashable', 'google', 'kills', 'twitch', 'killerthe', 'youtube', 'gaming', 'app', 'shuts', 'week', 'ars', 'technica', 'whitecollar', 'sweatshop', 'google', 'assistant', 'contractors', 'allege', 'wage', 'theft', 'guardian', 'googles', 'shadow', 'work', 'force', 'temps', 'outnumber', 'fulltime', 'employees', 'new', 'york', 'times', 'googles', 'chrome', 'becomes', 'web', 'gatekeeper', 'rivals', 'complain', 'bloomberg', 'leaked', 'doc', 'google', 'temporary', 'contract', 'workers', 'fulltime', 'staff', 'raising', 'concerns', 'growing', 'reliance', 'fast', 'company', 'google', 'relents', 'slightly', 'blocking', 'adblockers', 'paidup', 'enterprise', 'chrome', 'users', 'everyone', 'else', 'much', 'register', 'fscore', 'review', 'stocks', 'kci', 'limited', 'kosdaqa036670', 'basf', 'se', 'dbbas', 'easton', 'caller', 'global', 'behentrimonium', 'chloride', 'market', '2019', 'clariant', 'evonik', 'industries', 'kci', 'limited', 'thor', 'personal', 'care', 'croda', 'international', 'plc', 'business', 'pulze', 'business', 'pulze', 'stocks', 'focus', 'magic', 'formula', 'update', 'kci', 'limited', 'kosdaqa036670', 'austria', 'technologie', 'systemtechnik', 'aktiengesellschaft', 'wbagats', 'florence', 'standard', 'global', 'behentrimonium', 'chloride', 'market', 'outlook', '2019', 'clariant', 'evonik', 'industries', 'kci', 'limited', 'thor', 'personal', 'care', 'global', 'industry', 'analysis', 'better', 'beauty', 'advanced', 'science', 'happicom', 'behentrimonium', 'chloride', 'market', '2019', 'strategic', 'assessments', 'clariant', 'evonik', 'industries', 'kci', 'limited', 'market', 'trends', 'global', 'gallium', 'arsenide', 'gaas', 'market', '2019', 'freiberger', 'compound', 'materials', 'axt', 'sumitomo', 'electric', 'china', 'crystal', 'technologies', 'visual', 'photonics', 'epitaxy', 'business', 'pulze', 'business', 'pulze', 'global', 'inflammatory', 'bowel', 'disease', 'treatment', 'market', '2019', 'abbvie', 'inc', 'pfizer', 'inc', 'allergan', 'plc', 'shire', 'plc', 'novartis', 'ag', 'business', 'pulze', 'global', 'behentrimonium', 'chloride', 'market', '2019', 'development', 'strategy', 'analytical', 'overview', 'competitive', 'landscape', 'trends', 'forecast', '2024', 'majoreports', 'behentrimonium', 'chloride', 'market', 'emerging', 'market', 'developing', 'countries', 'majoreports', 'dow', 'jones', 'industrial', 'average', 'slumps', 'saves', 'worst', 'last', 'barrons', '5', 'best', 'dow', 'jones', 'stocks', 'buy', 'now', 'say', 'analysts', 'yahoo', 'finance', 'dow', 'gives', 'gains', 'falls', 'session', 'lows', 'tuesday', 'afternoon', 'action', 'marketwatch', 'dow', 'jones', 'industrial', 'average', 'rose', 'trump', 'opens', 'door', 'huawei', 'barrons', 'dow', 'jones', 'industrial', 'average', 'rises', 'trump', 'predicts', 'quick', 'tariff', 'deal', 'barrons', 'dow', 'jones', 'industrial', 'average', 'slides', 'treasuries', 'fuel', 'recession', 'fears', 'barrons', 'dow', 'jones', 'industrial', 'average', 'drops', 'recession', 'fears', 'grow', 'barrons', 'fedex', 'stock', 'falls', 'dow', 'jones', 'industrial', 'average', 'starts', 'week', 'little', 'changed', 'barrons', 'stocks', 'including', 'cocacola', 'verizon', 'biggest', 'dow', 'winners', 'rates', 'fall', 'cnbc', 'dow', 'jones', 'futures', 'us', 'not', 'ready', 'china', 'trade', 'deal', 'trump', 'says', 'investors', 'business', 'daily', 'basf', 'enables', 'highpurity', 'water', 'treatment', 'membranes', 'eppm', 'basf', 'build', 'engineering', 'plastics', 'tpus', 'plants', 'zhanjiang', 'china', 'plastics', 'today', 'basf', 'glycosyn', 'partnership', 'capitalise', 'hmo', 'gut', 'health', 'interest', 'nutraingredientscom', 'basf', 'ranks', '12', 'list', 'diversityinc', 'top', '50', 'companies', 'yahoo', 'finance', 'basf', 'develops', 'zeroco2', 'production', 'process', 'methanol', 'green', 'car', 'congress', 'basf', 'invests', 'chinese', 'advanced', 'materials', 'fund', 'manufacturing', 'global', 'basf', 'named', 'general', 'motors', 'supplier', 'year', '14th', 'time', 'aftermarketnewscom', 'amn', 'basf', 'estée', 'lauder', 'others', 'partner', 'sustainable', 'palm', 'oil', 'development', 'biofuels', 'international', 'magazine', 'basf', 'tightening', 'capacity', 'higher', 'costs', 'create', 'perfect', 'storm', 'auto', 'cat', 'recycling', 'recycling', 'today', 'basf', 'estée', 'lauder', 'companies', 'roundtable', 'sustainable', 'palm', 'oil', 'solidaridad', 'partner', 'sustainable', 'palm', 'project', 'globenewswire', 'trdtuned', 'sequoia', 'toyota', 'built', 'decade', 'ago', 'gear', 'patrol', 'heres', 'toyota', 'said', 'manual', 'supra', 'carbuzz', 'mazda', 'toyota', 'affiliates', 'form', '60', 'million', 'joint', 'company', 'alabama', 'alcom', '2021', 'toyota', 'tundra', 'rumored', 'get', '35liter', 'twinturbo', 'v6', 'hybrid', 'top', 'powertrain', 'autoblog', 'autoblog', 'toyota', 'says', 'fuel', 'cell', 'tech', 'affordable', 'soon', 'insider', 'car', 'news', 'toyota', 'may', 'invest', '550', 'million', 'china', 'ridehailing', 'firm', 'didi', 'nikkei', 'cnbc', 'toyota', 'motor', 'corp', 'good', 'company', 'slowing', 'industry', 'seeking', 'alpha', 'hey', 'enthusiasts', 'toyota', 'supra', 'bmw', 'sports', 'car', 'asking', 'drive', '2021', 'ford', 'bronco', 'learn', 'toyota', 'fj', 'cruiser', 'automobile', 'faster', 'new', 'toyota', 'racing', 'series', 'car', 'breaks', 'cover', 'yahoo', 'sports', 'colin', 'powells', 'salesforcecom', 'stock', 'investment', 'worth', 'millions', 'barrons', 'salesforce', 'unveils', 'new', 'ecosystem', 'insights', 'appexchange', 'moneycontrolcom', 'faulty', 'database', 'script', 'brings', 'salesforce', 'knees', 'zdnet', '6', 'things', 'know', 'latest', 'salesforce', 'outage', 'crn', 'attempt', 'easy', 'salesforce', 'quiz', 'win', '40', 'scholarship', 'yahoo', 'finance', 'buy', 'salesforce', 'crm', 'stock', 'heading', 'q1', 'earnings', 'yahoo', 'finance', 'salesforce', 'open', 'sources', 'lightning', 'web', 'components', 'zdnet', 'salesforces', 'major', 'outage', 'reinforces', 'pitfalls', 'cloud', 'software', 'world', 'cmswire', 'salesforce', 'tackling', 'bias', 'ai', 'new', 'trailhead', 'module', 'techrepublic', 'salesforce', 'crash', 'shows', 'pitfalls', 'cloud', 'software', 'opinion', '05282019', 'mediapost', 'communications', 'amazon', 'lets', 'tell', 'alexa', 'delete', 'voice', 'recordings', 'verge', 'amazon', 'could', 'surge', '35', 'aws', 'worth', '500', 'billion', 'analyst', 'says', 'cnbc', 'amazon', 'jeff', 'bezos', 'spoken', 'quiet', 'move', 'massive', 'industry', 'until', 'now', 'inc', 'exactly', 'point', 'amazons', 'treasure', 'truck', 'voxcom', 'amazon', 'gets', 'new', 'high', 'target', 'price', 'wall', 'street', 'bloomberg', 'biggest', 'analyst', 'calls', 'day', 'amazon', 'facebook', 'general', 'mills', 'cnbc', 'amazon', 'orders', 'ya', 'drama', 'the', 'wilds', 'sarah', 'streicher', 'series', 'variety', 'amazon', 'prime', 'day', '2019', 'it', 'whats', 'coming', 'get', 'best', 'deals', 'cnet', 'amazon', 'store', 'increase', 'shopper', 'engagement', 'entrepreneur', 'amazon', 'breaks', 'ground', 'seaport', 'building', 'boston', 'globe', 'dupont', 'present', 'bernsteins', '35th', 'annual', 'strategic', 'decisions', 'conference', 'yahoo', 'finance', 'new', 'hampshire', 'sues', '3m', 'dupont', 'chemical', 'companies', 'star', 'tribune', 'dowdupont', 'dupont', 'de', 'nemours', 'undervalued', 'seeking', 'alpha', 'dupont', 'reorganizes', 'again', 'eve', 'historic', 'breakup', 'phillycom', 'dupont', 'plans', '2', 'billion', 'share', 'buyback', 'spin', 'yahoo', 'finance', 'combined', 'vision', 'dupont', 'performance', 'building', 'solutions', 'spotlight', 'design', 'freedom', 'aia', 'conference', 'architecture', 'yahoo', 'finance', 'corteva', 'agriscience', 'set', 'incorporate', 'dupont', 'dow', 'groups', 'agribusiness', 'global', 'judge', 'questions', 'secrecy', 'chemours', 'lawsuit', 'dupont', 'detroit', 'news', 'murphy', 'administration', 'sues', 'dupont', '3m', 'companies', 'toxic', 'firefighting', 'foam', 'northjerseycom', 'dupont', 'shed', 'sustainability', 'units', 'postsplit', 'profit', 'quest', 'bloomberg', 'update', '1clariant', 'expects', 'china', 'rebound', 'weak', 'q1', 'reuters', 'clariant', 'catalysts', 'wuxi', 'xiyuan', 'win', 'contracts', 'formaldehyde', 'production', 'projects', 'china', 'chemengonline', 'global', 'activated', 'clay', 'market', 'booming', 'worldwide', 'clariant', 'taiko', 'group', 'basf', 'aplamcolashapura', 'group', 'musim', 'mas', 'majoreports', 'clariant', 'previews', 'new', 'ingredients', 'soontobeopened', 'consumer', 'care', 'innovation', 'center', 'cosmeticsdesigncom', 'usa', 'know', 'ammonium', 'polyphosphate', 'phase', 'ii', 'market', 'influencing', 'factors', 'top', 'companies', 'like', 'clariant', 'icl', 'performance', 'products', 'oceanchem', 'group', 'pantech', 'chemicals', 'jls', 'chemical', 'shifang', 'changfeng', 'chemical', 'chemicals', 'market', 'clariant', 'recognized', 'risk', 'management', 'sustainability', 'achievements', 'procurement', 'chemiede', 'global', 'amino', 'acid', 'surfactants', 'market', 'top', 'player', '2019', 'ajinomoto', 'clariant', 'sino', 'lion', 'miwon', 'zschimmer', 'schwarz', 'industry', 'global', 'news', 'usa', 'global', 'medical', 'silica', 'gel', 'market', 'insights', 'deep', 'analysis', '20192024', 'clariant', 'international', 'ltd', 'evonik', 'industries', 'wr', 'grace', 'solvay', 'industry', 'global', 'news', 'usa', 'global', 'mineral', 'cosmetic', 'market', '2019', 'research', 'report', 'basf', 'lanxess', 'clariant', 'huntsman', 'merck', 'eckart', 'indaily', 'times', 'bentonite', 'market', 'including', 'top', 'key', 'players', 'like', 'clariant', 'taiko', 'group', 'ashapura', 'huawei', 'bentonite', 'fenghong', 'new', 'material', 'lkab', 'minerals', 'bentonite', 'performance', 'minerals', 'chemicals', 'market', 'samsungs', 'galaxy', 'fold', 'launch', 'june', 'reports', 'claim', 'mashable', 'apple', 'takes', 'swipe', 'samsung', 'huawei', 'zdnet', 'apple', 'catching', 'huawei', 'samsung', 'winning', 'another', 'patent', 'foldable', 'iphone', 'advocate', 'vw', 'rework', '56', 'billion', 'battery', 'push', 'samsung', 'deal', 'risk', 'yahoo', 'finance', 'huaweis', 'dark', 'cloud', 'could', 'samsungs', 'silver', 'lining', 'article', 'asia', 'times', 'samsung', 'breakthrough', 'lead', '100watt', 'fast', 'charging', 'phones', 'geek', 'samsung', 'galaxy', 'tab', 'sale', '82', 'walmart', 'save', '29', 'mashable', 'samsung', 'eyes', 'smartphone', 'sales', 'growth', 'india', 'pymntscom', 'smaller', 'samsung', 'galaxy', 'home', 'leaks', 'fcc', 'filings', 'verge', 'best', '4k', 'tvs', 'sale', 'week', 'shop', 'samsung', 'sony', 'lg', 'mashable']\n"
     ]
    }
   ],
   "source": [
    "## Test Word tokenization of one sentence.\n",
    "from nltk.tokenize import sent_tokenize, word_tokenize\n",
    "# data = \"All work and no play makes jack a dull boy, all work and no play\"\n",
    "# print(word_tokenize(data))\n",
    "train_headlines=train['headlines'].apply(word_tokenize)\n",
    "# train_headlines.head()\n",
    "all_words = []\n",
    "for line in train_headlines:\n",
    "  all_words += line\n",
    "print (all_words)\n"
   ]
  },
  {
   "cell_type": "code",
   "execution_count": 9,
   "metadata": {
    "scrolled": false
   },
   "outputs": [
    {
     "data": {
      "text/plain": [
       "market            26\n",
       "global            22\n",
       "new               15\n",
       "2019              15\n",
       "evonik            14\n",
       "basf              13\n",
       "yahoo             13\n",
       "finance           12\n",
       "dow               12\n",
       "3m                12\n",
       "clariant          12\n",
       "dupont            11\n",
       "lg                11\n",
       "samsung           10\n",
       "amazon            10\n",
       "chem              10\n",
       "toyota            10\n",
       "news               9\n",
       "nissan             9\n",
       "lenovo             8\n",
       "jones              8\n",
       "industries         8\n",
       "salesforce         8\n",
       "google             8\n",
       "china              7\n",
       "industry           7\n",
       "average            7\n",
       "barrons            7\n",
       "company            6\n",
       "group              6\n",
       "                  ..\n",
       "zeroco2            1\n",
       "save               1\n",
       "vs                 1\n",
       "fenghong           1\n",
       "smartphone         1\n",
       "designed           1\n",
       "secrecy            1\n",
       "ridehailing        1\n",
       "would              1\n",
       "easy               1\n",
       "leaders            1\n",
       "proprietary        1\n",
       "56                 1\n",
       "allergan           1\n",
       "shire              1\n",
       "vision             1\n",
       "facebook           1\n",
       "globe              1\n",
       "settle             1\n",
       "coming             1\n",
       "fresh              1\n",
       "knees              1\n",
       "afternoon          1\n",
       "create             1\n",
       "inflammatory       1\n",
       "coating            1\n",
       "push               1\n",
       "chaebol            1\n",
       "administration     1\n",
       "amino              1\n",
       "Length: 956, dtype: int64"
      ]
     },
     "execution_count": 9,
     "metadata": {},
     "output_type": "execute_result"
    }
   ],
   "source": [
    "df = pd.Series(word for word in all_words)\n",
    "df.value_counts()"
   ]
  },
  {
   "cell_type": "code",
   "execution_count": null,
   "metadata": {},
   "outputs": [],
   "source": []
  }
 ],
 "metadata": {
  "kernelspec": {
   "display_name": "Python 3",
   "language": "python",
   "name": "python3"
  },
  "language_info": {
   "codemirror_mode": {
    "name": "ipython",
    "version": 3
   },
   "file_extension": ".py",
   "mimetype": "text/x-python",
   "name": "python",
   "nbconvert_exporter": "python",
   "pygments_lexer": "ipython3",
   "version": "3.7.3"
  }
 },
 "nbformat": 4,
 "nbformat_minor": 2
}
