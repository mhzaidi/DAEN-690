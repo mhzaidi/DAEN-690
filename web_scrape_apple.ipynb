{
 "cells": [
  {
   "cell_type": "code",
   "execution_count": 1,
   "metadata": {},
   "outputs": [],
   "source": [
    "############### Author: Miao Zheng #################\n",
    "## Import packages ##\n",
    "from textblob import TextBlob\n",
    "import requests\n",
    "from bs4 import BeautifulSoup\n",
    "import pandas"
   ]
  },
  {
   "cell_type": "code",
   "execution_count": 5,
   "metadata": {},
   "outputs": [],
   "source": [
    "class Analysis:\n",
    "    def __init__(self, term):\n",
    "        self.term=term\n",
    "        self.subjectivity=0\n",
    "        self.sentiment=0\n",
    "        self.url='https://news.google.com/search?q={0}&hl=en-US&gl=US&ceid=US%3Aen'.format(self.term)\n",
    "        # print (self.url)\n",
    "        \n",
    "    def run(self):\n",
    "        response = requests.get(self.url)\n",
    "        # print(response.text)\n",
    "        soup = BeautifulSoup(response.text, 'html.parser')\n",
    "        headline_results = soup.find_all('h3')\n",
    "        # print (headline_results)\n",
    "        for h in headline_results:\n",
    "            print(h.get_text())"
   ]
  },
  {
   "cell_type": "code",
   "execution_count": 6,
   "metadata": {},
   "outputs": [],
   "source": [
    "a = Analysis(\"apple\")"
   ]
  },
  {
   "cell_type": "code",
   "execution_count": 7,
   "metadata": {},
   "outputs": [
    {
     "name": "stdout",
     "output_type": "stream",
     "text": [
      "Apple Loop: New iPhone Leak Confirmed, Apple Forces Disruptive Changes, Massive Mac Pro Mistake\n",
      "Apple’s $999 Pro Stand is just the latest sign of its identity crisis\n",
      "Apple's Pro Display Stand Costs a Grand, And Even Mac Fans Are Pissed\n",
      "Answers to your burning questions about how ‘Sign In with Apple’ works\n",
      "Apple Attempted to Censor Critical Coverage of Its $1000 Monitor Stand\n",
      "Apple monitor stand that costs more than an iPhone sparks online uproar\n",
      "Apple Watch Limited Grant Program for ResearchKit & CareKit launching this fall\n",
      "Poll: Could an Apple Watch ever replace an iPhone for you?\n",
      "Apple iPad Pro keyboard review: Logitech, Zagg, Brydge, Apple\n",
      "Google Stadia vs. Apple Arcade streaming game services: Everything we know\n",
      "watchOS 6 advances health and fitness capabilities for Apple Watch\n",
      "Apple's new iPad tech lets you leave your Lightroom laptop at home\n",
      "Apple previews iOS 13\n",
      "Apple unveils $1,000 Pro Display stand. Twitter users say 'no thanks!'\n",
      "The new iPadOS powers unique experiences designed for iPad\n",
      "Gadget Lab Podcast: Everything You Need to Know from Apple’s WWDC\n",
      "Apple Store designer proposes restoring Notre-Dame as… basically an Apple Store\n",
      "Smartphone makers are trying to kill the notch before Apple does\n",
      "New Apple Sign-In Option Could Keep More Personal Data Away From Facebook, Google\n",
      "Apple’s global accessibility head on the company’s new features for iOS 13 and macOS Catalina\n",
      "Apple just added crypto support to iPhone, and we nearly missed it\n",
      "Apple's quiet update to Siri Shortcuts brings the niche tool into the mainstream\n",
      "Apple unveils groundbreaking new technologies for app development\n",
      "WWDC: Get to know Apple’s 11+ new privacy tools\n",
      "Get your dad a discounted Apple Watch for Father's Day\n",
      "Apple Design Awards celebrate best in class design for apps and games\n",
      "Highlights from WWDC 2019\n",
      "Apple's former CEO shares the secret to success that Steve Jobs and Bill Gates taught him\n",
      "The clever cryptography behind Apple’s “Find My” feature\n",
      "Sorry, Apple's controversial $1000 computer screen stand isn't a ripoff — it's a missed opportunity\n",
      "How to open Apple's DMG files in Windows 10\n",
      "Apple announces its 2019 Design Award winners\n",
      "New PopSocket designed to play nice with Apple’s popular iPhone cases\n",
      "Apple's 'Find My' Feature Uses Some Very Clever Cryptography\n",
      "Apple Will Outperform on Growing Services Sales, Says Analyst\n",
      "Apple's macOS Catalina fixes the most annoying thing about Dark Mode\n",
      "Apple Is Still Trying to Sue the Owner of an Independent iPhone Repair Shop\n",
      "Apple Backs Off Crackdown on Parental-Control Apps\n",
      "The upside – and potential downside – of Apple's WWDC twin OS PC strategy\n",
      "WarnerMedia and Apple are reportedly in a bidding war for J.J. Abrams. Here's why\n",
      "Weighing the Antitrust Case Against Google, Apple, Amazon, and Facebook\n",
      "Can Apple be trusted with the App Store?\n",
      "How Ridiculous Is Apple's $1,000 Monitor Stand, Really?\n",
      "This Week In XR: Apple's New AR Kit 3.0, New Moverio Assist, Vuzix M-400, Mario Kart VR\n",
      "Here are the biggest analyst calls of the day: Apple, Advanced Micro Devices, Whirlpool & more\n",
      "Apple reportedly in process of acquiring self-driving shuttle company Drive.ai\n",
      "What Apple's new AR bowling game taught us about the future\n",
      "Apple's Secure Video HomeKit Feature Requires a 200GB or 2TB iCloud Storage Plan\n",
      "The Apple Watch Is Now the Control Center for Your Health\n",
      "Inside Apple's WWDC, from Mac Pro shock to Wi-Fi meltdown\n",
      "Music to Apple's and Spotify's Ears: Paid Streaming Expected to Skyrocket\n",
      "Weezer performs at Apple’s WWDC 2019 Bash [Gallery]\n",
      "At WWDC 2019, Apple touts Sign In as convenient without privacy hit\n",
      "Week-in-Review: Apple’s shipping a refresh for its worst device, but why?\n",
      "Apple's New York font by Susan Kare is now free to download\n",
      "‘Crypto’ for ‘Cryptography’: How Justified Is the Exuberance Around Apple’s Developer CryptoKit?\n",
      "With iOS 13, Apple locks out apps from accessing users’ private notes in Contacts\n",
      "Apple will force iOS developers to use its new Apple ID sign in option\n",
      "Apple’s Pro products are becoming less and less attainable for the professionals they’re made for\n",
      "Apple’s Real User Indicator will tell developers when a new account may actually be a bot\n",
      "PencilKit lets devs easily implement Apple’s low latency & new dynamic Pencil tools\n",
      "WWDC 2019: Meet Apple's youngest app developer, Ayush\n",
      "All-new Apple TV app available in over 100 countries starting today\n",
      "10-year-old Bay Area boy is youngest app developer at Apple's WWDC\n",
      "The Mac Pro, iPadOS, macOS Catalina, and everything else from WWDC 2019\n",
      "Apple's $999 Mac Pro Display XDR monitor stand is the most Apple thing ever\n",
      "Apple's new watch update is the missing piece of the puzzle the Apple Watch needed, and Fitbit should be worried\n",
      "Menstrual cycle tracking will be added to the Apple Watch\n",
      "Apple has cleared out its Facebook and Instagram pages for iTunes\n",
      "Are $32 AirPod Knockoffs as Good as the Real Thing?\n",
      "Apple Maps is getting its own version of Google Maps’ Street View\n",
      "Apple’s updated TestFlight will let users submit feedback with a screenshot\n",
      "Apple's coolest new AR features only work on iPads and iPhones with the newest processors\n",
      "Apple CarPlay getting design refresh and better Siri support in iOS 13\n",
      "Apple's Federighi and Joswiak talk iOS 13, macOS, Mac Pro and more in interview\n",
      "Apple Just Patched a Modem Bug That's Been in Macs Since 1999\n",
      "Apple announces its first new iPod in four years\n",
      "The end is nigh for Apple's iTunes as the tech giant targets separate audio and video markets\n",
      "Apple officially announces tvOS 13 for Apple TV\n",
      "New iPhone Exclusive Reveals Apple's Design Decisions\n",
      "Apple Drops First Trailer for One of Its Original Shows: Ronald D. Moore Drama ‘For All Mankind’ (Watch)\n",
      "Apple drops on report that Justice Department is eyeing antitrust probe\n",
      "Apple enables HomeKit support for home security cameras and routers\n",
      "Apple WWDC 2019: iOS 13 dark mode, iPadOS, the Mac Pro, Pro Display XDR and all that Apple announced\n",
      "Apple charging $999 for its new computer stand\n",
      "Apple updates CarPlay with new home screen and Siri Suggestions\n",
      "Apple’s Biggest WWDC Announcements in Two Minutes or Less\n",
      "Apple is now restricting Chinese language podcasts in China\n",
      "Weezer to Headline Apple's WWDC 2019 Bash Tonight\n",
      "Apple replaces bash with zsh as the default shell in macOS Catalina\n",
      "Apple’s new Health feature tracks unsafe headphone volumes\n",
      "Apple Arcade to support game controllers, Google Stadia may come sooner though\n",
      "Apple's new ecosystem world order and the privacy economy\n",
      "Gallery: Here’s the exclusive merchandise developers can purchase at Apple’s WWDC Store\n",
      "Apple's Voice Control Feature Lets You Use Your Mac or iPhone With Only Your Voice\n",
      "The Shenanigans Behind a Stealthy Apple Keychain Attack\n",
      "Apple macOS security protections can easily bypassed with ‘synthetic’ clicks, researcher finds\n",
      "Apple is finally adding swipe typing to its iOS keyboard\n",
      "How Apple’s deal with Amazon screwed over small recycling businesses\n",
      "Apple should make more iPad apps for the Mac\n"
     ]
    }
   ],
   "source": [
    "a.run()"
   ]
  },
  {
   "cell_type": "code",
   "execution_count": null,
   "metadata": {},
   "outputs": [],
   "source": []
  },
  {
   "cell_type": "code",
   "execution_count": null,
   "metadata": {},
   "outputs": [],
   "source": []
  },
  {
   "cell_type": "code",
   "execution_count": null,
   "metadata": {},
   "outputs": [],
   "source": []
  },
  {
   "cell_type": "code",
   "execution_count": null,
   "metadata": {},
   "outputs": [],
   "source": []
  }
 ],
 "metadata": {
  "kernelspec": {
   "display_name": "Python 3",
   "language": "python",
   "name": "python3"
  },
  "language_info": {
   "codemirror_mode": {
    "name": "ipython",
    "version": 3
   },
   "file_extension": ".py",
   "mimetype": "text/x-python",
   "name": "python",
   "nbconvert_exporter": "python",
   "pygments_lexer": "ipython3",
   "version": "3.7.1"
  }
 },
 "nbformat": 4,
 "nbformat_minor": 2
}
